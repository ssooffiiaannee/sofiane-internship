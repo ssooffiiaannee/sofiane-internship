{
 "cells": [
  {
   "cell_type": "code",
   "execution_count": 1,
   "id": "4074e4ad",
   "metadata": {},
   "outputs": [],
   "source": [
    "from data_processing import csv_data, write_to_json_file\n",
    "from forecasting import arima_estimation, sarima_estimation\n",
    "from datetime import datetime, timedelta\n",
    "from statsmodels.tsa.arima.model import ARIMA\n",
    "import time\n",
    "import json"
   ]
  },
  {
   "cell_type": "code",
   "execution_count": 2,
   "id": "6db88185",
   "metadata": {},
   "outputs": [
    {
     "name": "stderr",
     "output_type": "stream",
     "text": [
      "c:\\users\\sofiane\\appdata\\local\\programs\\python\\python37\\lib\\site-packages\\IPython\\core\\interactiveshell.py:3347: DtypeWarning: Columns (11,12) have mixed types.Specify dtype option on import or set low_memory=False.\n",
      "  if (await self.run_code(code, result,  async_=asy)):\n"
     ]
    }
   ],
   "source": [
    "dataClass = csv_data(\"../data/urgence3.csv\")"
   ]
  },
  {
   "cell_type": "code",
   "execution_count": 3,
   "id": "naval-approach",
   "metadata": {},
   "outputs": [],
   "source": [
    "start_d, start_m, start_y = 1, 1, 2019"
   ]
  },
  {
   "cell_type": "code",
   "execution_count": 4,
   "id": "african-beauty",
   "metadata": {},
   "outputs": [],
   "source": [
    "path = \"../data/predictions4/\"\n",
    "\n",
    "prev_week_load_file = \"prev_week_load.json\"\n",
    "prediction_file_name = \"predictions.json\""
   ]
  },
  {
   "cell_type": "code",
   "execution_count": 5,
   "id": "outstanding-thickness",
   "metadata": {},
   "outputs": [],
   "source": [
    "n_prev_days = 7\n",
    "prev_week_load = dataClass.return_prev_days(start_y, start_m, start_d, n_prev_days = n_prev_days)\n",
    "index = dataClass.find_start_day(start_y, start_m, start_d)"
   ]
  },
  {
   "cell_type": "code",
   "execution_count": 6,
   "id": "novel-pipeline",
   "metadata": {},
   "outputs": [
    {
     "name": "stderr",
     "output_type": "stream",
     "text": [
      "c:\\users\\sofiane\\appdata\\local\\programs\\python\\python37\\lib\\site-packages\\statsmodels\\tsa\\statespace\\sarimax.py:1009: UserWarning: Non-invertible starting seasonal moving average Using zeros as starting parameters.\n",
      "  warn('Non-invertible starting seasonal moving average'\n"
     ]
    },
    {
     "name": "stdout",
     "output_type": "stream",
     "text": [
      "01/01/2019 00:14 404.1863568325818\n",
      "01/01/2019 00:17 403.4143323749864\n",
      "01/01/2019 00:55 402.83051715494474\n",
      "01/01/2019 00:56 402.43631810908147\n",
      "01/01/2019 00:59 402.2158587154583\n",
      "01/01/2019 01:02 402.38619545105644\n",
      "01/01/2019 01:06 402.6635556298335\n",
      "01/01/2019 01:09 402.4319723845822\n",
      "01/01/2019 01:32 402.3865592360323\n"
     ]
    },
    {
     "ename": "KeyboardInterrupt",
     "evalue": "",
     "output_type": "error",
     "traceback": [
      "\u001b[1;31m---------------------------------------------------------------------------\u001b[0m",
      "\u001b[1;31mKeyboardInterrupt\u001b[0m                         Traceback (most recent call last)",
      "\u001b[1;32m<ipython-input-6-9e91c01e2668>\u001b[0m in \u001b[0;36m<module>\u001b[1;34m\u001b[0m\n\u001b[0;32m     10\u001b[0m \u001b[1;32mwhile\u001b[0m\u001b[1;33m(\u001b[0m\u001b[1;32mTrue\u001b[0m \u001b[1;32mand\u001b[0m \u001b[0mindex\u001b[0m \u001b[1;33m>=\u001b[0m \u001b[1;36m0\u001b[0m\u001b[1;33m)\u001b[0m\u001b[1;33m:\u001b[0m\u001b[1;33m\u001b[0m\u001b[1;33m\u001b[0m\u001b[0m\n\u001b[0;32m     11\u001b[0m     \u001b[0mdate\u001b[0m \u001b[1;33m+=\u001b[0m \u001b[0mtimedelta\u001b[0m\u001b[1;33m(\u001b[0m\u001b[0mminutes\u001b[0m \u001b[1;33m=\u001b[0m \u001b[0minterval\u001b[0m\u001b[1;33m)\u001b[0m\u001b[1;33m\u001b[0m\u001b[1;33m\u001b[0m\u001b[0m\n\u001b[1;32m---> 12\u001b[1;33m     \u001b[0mtime\u001b[0m\u001b[1;33m.\u001b[0m\u001b[0msleep\u001b[0m\u001b[1;33m(\u001b[0m\u001b[1;36m1\u001b[0m\u001b[1;33m)\u001b[0m\u001b[1;33m\u001b[0m\u001b[1;33m\u001b[0m\u001b[0m\n\u001b[0m\u001b[0;32m     13\u001b[0m \u001b[1;33m\u001b[0m\u001b[0m\n\u001b[0;32m     14\u001b[0m     \u001b[1;32mwhile\u001b[0m\u001b[1;33m(\u001b[0m\u001b[0mdatetime\u001b[0m\u001b[1;33m.\u001b[0m\u001b[0mstrptime\u001b[0m\u001b[1;33m(\u001b[0m\u001b[0mdataClass\u001b[0m\u001b[1;33m.\u001b[0m\u001b[0mdates\u001b[0m\u001b[1;33m[\u001b[0m\u001b[0mindex\u001b[0m\u001b[1;33m]\u001b[0m\u001b[1;33m,\u001b[0m \u001b[0mdataClass\u001b[0m\u001b[1;33m.\u001b[0m\u001b[0mdateFormat\u001b[0m\u001b[1;33m)\u001b[0m \u001b[1;33m<\u001b[0m \u001b[0mdate\u001b[0m\u001b[1;33m)\u001b[0m\u001b[1;33m:\u001b[0m\u001b[1;33m\u001b[0m\u001b[1;33m\u001b[0m\u001b[0m\n",
      "\u001b[1;31mKeyboardInterrupt\u001b[0m: "
     ]
    }
   ],
   "source": [
    "stop = 1\n",
    "interval = 2\n",
    "n_samples = 100\n",
    "date = datetime(start_y, start_m, start_d, 0, 0)\n",
    "dic_key = f\"{start_y:02}-{start_m:02}-{start_d:02} 00:00\"\n",
    "prev_week_load_dict = {dic_key:prev_week_load}\n",
    "prev_index = index\n",
    "prev_week_load_dict[dic_key].append(0)\n",
    "\n",
    "while(True and index >= 0):\n",
    "    date += timedelta(minutes = interval)\n",
    "    time.sleep(1)\n",
    "    \n",
    "    while(datetime.strptime(dataClass.dates[index], dataClass.dateFormat) < date):\n",
    "        prev_week_load_dict[dic_key][-1] += 1\n",
    "        index -= 1\n",
    "    if(prev_index != index):\n",
    "        write_to_json_file(path, prev_week_load_file, prev_week_load_dict)\n",
    "        model = arima_estimation(prev_week_load_dict[dic_key][-n_samples:])\n",
    "        print(dataClass.dates[index], model.aic)\n",
    "        try:\n",
    "            predictions = model.forecast(steps = 24)\n",
    "            predictions_dict = {f\"{start_y:02}-{start_m:02}-{start_d:02}\": list(map(round, predictions))}\n",
    "            write_to_json_file(path, prediction_file_name, predictions_dict)\n",
    "        except:\n",
    "            raise ValueError(\"Cannot forecast !!\")\n",
    "    \n",
    "    prev_index = index\n",
    "    if(date.minute == 0):\n",
    "        prev_week_load_dict[dic_key].append(0)\n",
    "    \n",
    "#     print(index, dataClass.dates[index], date)"
   ]
  },
  {
   "cell_type": "code",
   "execution_count": null,
   "id": "earned-affiliation",
   "metadata": {},
   "outputs": [],
   "source": []
  }
 ],
 "metadata": {
  "kernelspec": {
   "display_name": "Python 3",
   "language": "python",
   "name": "python3"
  },
  "language_info": {
   "codemirror_mode": {
    "name": "ipython",
    "version": 3
   },
   "file_extension": ".py",
   "mimetype": "text/x-python",
   "name": "python",
   "nbconvert_exporter": "python",
   "pygments_lexer": "ipython3",
   "version": "3.7.3"
  }
 },
 "nbformat": 4,
 "nbformat_minor": 5
}
