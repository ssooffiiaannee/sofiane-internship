{
 "cells": [
  {
   "cell_type": "code",
   "execution_count": 2,
   "id": "proof-compound",
   "metadata": {},
   "outputs": [],
   "source": [
    "from bs4 import BeautifulSoup\n",
    "import requests\n",
    "import regex as re\n",
    "from datetime import datetime, timedelta\n",
    "import json"
   ]
  },
  {
   "cell_type": "code",
   "execution_count": 3,
   "id": "sought-sector",
   "metadata": {},
   "outputs": [],
   "source": [
    "def get_temperature_by_day(date):\n",
    "    assert(type(date) == datetime), \"date must be of type <datetime>\"\n",
    "    \n",
    "    year, month, day = date.year, date.month, date.day\n",
    "    days = {0:\"Monday\", \n",
    "            1:\"Tuesday\", \n",
    "            2:\"Wednesday\", \n",
    "            3:\"Thursday\", \n",
    "            4:\"Friday\", \n",
    "            5:\"Saturday\", \n",
    "            6:\"Sunday\"}\n",
    "    months = {1: \"january\", \n",
    "              2:\"february\",\n",
    "              3: \"march\", \n",
    "              4:\"april\", \n",
    "              5:\"may\", \n",
    "              6:\"june\", \n",
    "              7:\"july\", \n",
    "              8:\"august\", \n",
    "              9:\"september\", \n",
    "              10:\"october\", \n",
    "              11:\"november\", \n",
    "              12:\"december\"}\n",
    "    temperatures = {f\"{year}-{month:02d}-{day:02d}\": []}\n",
    "    pattern = re.compile(r'[0-9]+[0-9]')\n",
    "    \n",
    "    weekday = date.weekday()\n",
    "    link = f\"https://weatherspark.com/h/d/147947/{year}/{month}/{day}/Historical-Weather-on-{days[weekday]}-{months[month]}-{day}-{year}-at-Pontoise-%E2%80%93-Cormeilles-Aerodrom-France\"\n",
    "    try:\n",
    "        source = requests.get(link).text\n",
    "        soup = BeautifulSoup(source, \"lxml\")\n",
    "        article = soup.find(\"table\", class_=\"table table-condensed stickyHeader History-MetarReports-outer_table\")\n",
    "    except:\n",
    "        print(\"Error in either: request or bs4 parsing.\")\n",
    "    t, noTemp = 0, True\n",
    "    for i in range(24):\n",
    "        try:\n",
    "            article2 = article.find(\"tbody\").find(\"tr\", class_ = f\"metar-{i:02d}-00 History-MetarReports-row metar-{i:02d}-00\").find_all(\"td\", class_ = \"c\")\n",
    "            matches = pattern.finditer(str(article2[0]))\n",
    "            for match in matches:\n",
    "                t = int(str(article2[0])[match.start(0): match.end(0)])\n",
    "            noTemp = False\n",
    "        except:\n",
    "            noTemp = True\n",
    "            print(f\"Missing data {year}-{month:02d}-{day:02d} {i:02d} hour\")\n",
    "\n",
    "        temperatures[f\"{year}-{month:02d}-{day:02d}\"].append(round((t - 32)*5/9))\n",
    "    return temperatures"
   ]
  },
  {
   "cell_type": "code",
   "execution_count": 4,
   "id": "polish-therapist",
   "metadata": {},
   "outputs": [],
   "source": [
    "day, month, year = 31, 7, 2019\n",
    "date = datetime(year, month, day)"
   ]
  },
  {
   "cell_type": "code",
   "execution_count": 5,
   "id": "theoretical-yesterday",
   "metadata": {},
   "outputs": [
    {
     "data": {
      "text/plain": [
       "{'2019-07-31': [17,\n",
       "  16,\n",
       "  16,\n",
       "  16,\n",
       "  16,\n",
       "  16,\n",
       "  15,\n",
       "  14,\n",
       "  15,\n",
       "  16,\n",
       "  17,\n",
       "  18,\n",
       "  20,\n",
       "  20,\n",
       "  20,\n",
       "  21,\n",
       "  21,\n",
       "  23,\n",
       "  24,\n",
       "  22,\n",
       "  22,\n",
       "  21,\n",
       "  20,\n",
       "  18]}"
      ]
     },
     "execution_count": 5,
     "metadata": {},
     "output_type": "execute_result"
    }
   ],
   "source": [
    "# you can check the results on :\n",
    "# \"https://weatherspark.com/h/d/147947/2019/7/31/Historical-Weather-on-Wednesday-July-31-2019-at-Pontoise-%E2%80%93-Cormeilles-Aerodrom-France\"\n",
    "get_temperature_by_day(date)"
   ]
  },
  {
   "cell_type": "code",
   "execution_count": null,
   "id": "unavailable-horror",
   "metadata": {},
   "outputs": [],
   "source": []
  }
 ],
 "metadata": {
  "kernelspec": {
   "display_name": "Python 3",
   "language": "python",
   "name": "python3"
  },
  "language_info": {
   "codemirror_mode": {
    "name": "ipython",
    "version": 3
   },
   "file_extension": ".py",
   "mimetype": "text/x-python",
   "name": "python",
   "nbconvert_exporter": "python",
   "pygments_lexer": "ipython3",
   "version": "3.7.3"
  }
 },
 "nbformat": 4,
 "nbformat_minor": 5
}
